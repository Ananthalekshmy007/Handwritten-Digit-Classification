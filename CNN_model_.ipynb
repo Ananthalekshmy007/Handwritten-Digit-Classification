{
  "nbformat": 4,
  "nbformat_minor": 0,
  "metadata": {
    "colab": {
      "name": "Practice.ipynb",
      "provenance": [],
      "collapsed_sections": [],
      "toc_visible": true
    },
    "kernelspec": {
      "name": "python3",
      "display_name": "Python 3"
    }
  },
  "cells": [
    {
      "cell_type": "code",
      "metadata": {
        "id": "FOR2xQN-jybf",
        "colab_type": "code",
        "colab": {
          "base_uri": "https://localhost:8080/",
          "height": 35
        },
        "outputId": "979afd86-ef4c-49d9-f041-bfb3014563a1"
      },
      "source": [
        "import tensorflow\n",
        "import keras\n",
        "from keras.datasets import mnist\n",
        "from keras.models import Sequential\n",
        "from keras.layers import Dense,Dropout,Flatten\n",
        "from keras.layers import Conv2D,MaxPooling2D\n",
        "from keras import backend as K\n",
        "\n",
        "\n"
      ],
      "execution_count": 1,
      "outputs": [
        {
          "output_type": "stream",
          "text": [
            "Using TensorFlow backend.\n"
          ],
          "name": "stderr"
        }
      ]
    },
    {
      "cell_type": "markdown",
      "metadata": {
        "id": "L9QxGg8lnFLl",
        "colab_type": "text"
      },
      "source": [
        "# Loading the data"
      ]
    },
    {
      "cell_type": "code",
      "metadata": {
        "id": "RkLnkKZjkk7w",
        "colab_type": "code",
        "colab": {}
      },
      "source": [
        "(x_train,y_train),(x_test,y_test) = mnist.load_data()"
      ],
      "execution_count": 2,
      "outputs": []
    },
    {
      "cell_type": "code",
      "metadata": {
        "id": "h1VTtMvpk1dq",
        "colab_type": "code",
        "colab": {}
      },
      "source": [
        "import numpy\n",
        "import pandas\n",
        "a=x_train"
      ],
      "execution_count": 3,
      "outputs": []
    },
    {
      "cell_type": "code",
      "metadata": {
        "id": "9KRmn2sXmNy-",
        "colab_type": "code",
        "colab": {
          "base_uri": "https://localhost:8080/",
          "height": 35
        },
        "outputId": "7d67d239-c702-494f-9b01-450c6c28de06"
      },
      "source": [
        "print(x_train.shape,y_train.shape)"
      ],
      "execution_count": 4,
      "outputs": [
        {
          "output_type": "stream",
          "text": [
            "(60000, 28, 28) (60000,)\n"
          ],
          "name": "stdout"
        }
      ]
    },
    {
      "cell_type": "markdown",
      "metadata": {
        "id": "3eyzfk9Om4jo",
        "colab_type": "text"
      },
      "source": [
        "#Preprocessing the data "
      ]
    },
    {
      "cell_type": "code",
      "metadata": {
        "id": "6SNubJz6m_Rt",
        "colab_type": "code",
        "colab": {}
      },
      "source": [
        "x_train = x_train.reshape(x_train.shape[0], 28, 28, 1)\n",
        "x_test = x_test.reshape(x_test.shape[0], 28, 28, 1)"
      ],
      "execution_count": 5,
      "outputs": []
    },
    {
      "cell_type": "code",
      "metadata": {
        "id": "fkfXN2_qoHOh",
        "colab_type": "code",
        "colab": {}
      },
      "source": [
        "input_shape = (28,28,1)"
      ],
      "execution_count": 6,
      "outputs": []
    },
    {
      "cell_type": "code",
      "metadata": {
        "id": "qtoftrAqoK6e",
        "colab_type": "code",
        "colab": {}
      },
      "source": [
        "#converting vectors to binary matrices\n",
        "y_train = keras.utils.to_categorical(y_train,num_classes=None)\n",
        "y_test = keras.utils.to_categorical(y_test,num_classes=None)"
      ],
      "execution_count": 7,
      "outputs": []
    },
    {
      "cell_type": "code",
      "metadata": {
        "id": "DjenRqVoqQEI",
        "colab_type": "code",
        "colab": {}
      },
      "source": [
        "#casting the values of the matrix as float32\n",
        "x_train=x_train.astype('float32')\n",
        "x_test=x_test.astype('float32')"
      ],
      "execution_count": 8,
      "outputs": []
    },
    {
      "cell_type": "code",
      "metadata": {
        "id": "mn22dNOupfTv",
        "colab_type": "code",
        "colab": {}
      },
      "source": [
        "x_train/=255\n",
        "x_test/=255"
      ],
      "execution_count": 9,
      "outputs": []
    },
    {
      "cell_type": "code",
      "metadata": {
        "id": "KDmjXNQlsy6C",
        "colab_type": "code",
        "colab": {
          "base_uri": "https://localhost:8080/",
          "height": 70
        },
        "outputId": "37413c1c-7db8-484f-f97b-f4067acaf897"
      },
      "source": [
        "print('x_train shape:', x_train.shape)\n",
        "print(x_train.shape[0], 'train samples')\n",
        "print(x_test.shape[0], 'test samples')"
      ],
      "execution_count": 10,
      "outputs": [
        {
          "output_type": "stream",
          "text": [
            "x_train shape: (60000, 28, 28, 1)\n",
            "60000 train samples\n",
            "10000 test samples\n"
          ],
          "name": "stdout"
        }
      ]
    },
    {
      "cell_type": "markdown",
      "metadata": {
        "id": "3lzXW58Lt4yi",
        "colab_type": "text"
      },
      "source": [
        "# Creating the model"
      ]
    },
    {
      "cell_type": "code",
      "metadata": {
        "id": "xqW9Kuaytq9J",
        "colab_type": "code",
        "colab": {}
      },
      "source": [
        "batch_size = 128\n",
        "num_classes = 10\n",
        "epochs = 10"
      ],
      "execution_count": 11,
      "outputs": []
    },
    {
      "cell_type": "code",
      "metadata": {
        "id": "GqWaceRwyG7T",
        "colab_type": "code",
        "colab": {}
      },
      "source": [
        "model= Sequential()\n",
        "model.add(Conv2D(32, kernel_size=(3, 3),activation='relu',input_shape=input_shape))\n",
        "#a convolution layer is being addded to the model with 32 filter and kernel size 3,3 along with activation function and input shape\n",
        "model.add(Conv2D(64, (3, 3), activation='relu'))\n",
        "#added one more conv layer with 64 filters\n",
        "#addding layers for the model\n",
        "model.add(MaxPooling2D(pool_size=(2, 2)))\n",
        "model.add(Dropout(0.25))\n",
        "model.add(Flatten())\n",
        "model.add(Dense(256, activation='relu'))\n",
        "model.add(Dropout(0.5))\n",
        "model.add(Dense(num_classes, activation='softmax'))\n"
      ],
      "execution_count": 12,
      "outputs": []
    },
    {
      "cell_type": "markdown",
      "metadata": {
        "id": "1i_i-Ah9OtSd",
        "colab_type": "text"
      },
      "source": [
        "# Compiling the model"
      ]
    },
    {
      "cell_type": "code",
      "metadata": {
        "id": "Ela4zWry1mJh",
        "colab_type": "code",
        "colab": {}
      },
      "source": [
        "model.compile(loss=keras.losses.categorical_crossentropy,optimizer=keras.optimizers.Adadelta(),metrics=['accuracy'])"
      ],
      "execution_count": 13,
      "outputs": []
    },
    {
      "cell_type": "markdown",
      "metadata": {
        "id": "CiTL17iiO0UG",
        "colab_type": "text"
      },
      "source": [
        "# Training the model"
      ]
    },
    {
      "cell_type": "code",
      "metadata": {
        "id": "cfJo5ddq8y13",
        "colab_type": "code",
        "colab": {
          "base_uri": "https://localhost:8080/",
          "height": 426
        },
        "outputId": "be6c9245-7d5e-4b7e-dfcf-1c49a9530426"
      },
      "source": [
        "hist = model.fit(x_train,y_train,epochs=epochs,batch_size=batch_size,verbose=1,validation_data=(x_test,y_test))\n",
        "print(\"The model has successfully trained\")\n",
        "model.save('mnist.h5')\n",
        "print(\"Saving the model as mnist.h5\")"
      ],
      "execution_count": 14,
      "outputs": [
        {
          "output_type": "stream",
          "text": [
            "Train on 60000 samples, validate on 10000 samples\n",
            "Epoch 1/10\n",
            "60000/60000 [==============================] - 165s 3ms/step - loss: 0.2319 - accuracy: 0.9286 - val_loss: 0.0696 - val_accuracy: 0.9772\n",
            "Epoch 2/10\n",
            "60000/60000 [==============================] - 165s 3ms/step - loss: 0.0726 - accuracy: 0.9779 - val_loss: 0.0452 - val_accuracy: 0.9859\n",
            "Epoch 3/10\n",
            "60000/60000 [==============================] - 170s 3ms/step - loss: 0.0530 - accuracy: 0.9840 - val_loss: 0.0325 - val_accuracy: 0.9886\n",
            "Epoch 4/10\n",
            "60000/60000 [==============================] - 166s 3ms/step - loss: 0.0422 - accuracy: 0.9873 - val_loss: 0.0276 - val_accuracy: 0.9904\n",
            "Epoch 5/10\n",
            "60000/60000 [==============================] - 163s 3ms/step - loss: 0.0354 - accuracy: 0.9891 - val_loss: 0.0276 - val_accuracy: 0.9903\n",
            "Epoch 6/10\n",
            "60000/60000 [==============================] - 162s 3ms/step - loss: 0.0311 - accuracy: 0.9897 - val_loss: 0.0256 - val_accuracy: 0.9907\n",
            "Epoch 7/10\n",
            "60000/60000 [==============================] - 172s 3ms/step - loss: 0.0261 - accuracy: 0.9918 - val_loss: 0.0267 - val_accuracy: 0.9913\n",
            "Epoch 8/10\n",
            "60000/60000 [==============================] - 163s 3ms/step - loss: 0.0228 - accuracy: 0.9933 - val_loss: 0.0293 - val_accuracy: 0.9896\n",
            "Epoch 9/10\n",
            "60000/60000 [==============================] - 164s 3ms/step - loss: 0.0207 - accuracy: 0.9936 - val_loss: 0.0262 - val_accuracy: 0.9917\n",
            "Epoch 10/10\n",
            "60000/60000 [==============================] - 163s 3ms/step - loss: 0.0192 - accuracy: 0.9942 - val_loss: 0.0252 - val_accuracy: 0.9905\n",
            "The model has successfully trained\n",
            "Saving the model as mnist.h5\n"
          ],
          "name": "stdout"
        }
      ]
    },
    {
      "cell_type": "code",
      "metadata": {
        "id": "xEMSD31K6IN2",
        "colab_type": "code",
        "colab": {
          "base_uri": "https://localhost:8080/",
          "height": 52
        },
        "outputId": "2173f7f6-ff2d-443a-a4f9-d462159d57a0"
      },
      "source": [
        "score = model.evaluate(x_test, y_test, verbose=0)\n",
        "print('Test loss:', score[0])\n",
        "print('Test accuracy:', score[1])\n",
        "\n"
      ],
      "execution_count": 15,
      "outputs": [
        {
          "output_type": "stream",
          "text": [
            "Test loss: 0.02522948660027996\n",
            "Test accuracy: 0.9904999732971191\n"
          ],
          "name": "stdout"
        }
      ]
    },
    {
      "cell_type": "code",
      "metadata": {
        "id": "3pi_2APRdCvH",
        "colab_type": "code",
        "colab": {}
      },
      "source": [
        ""
      ],
      "execution_count": null,
      "outputs": []
    }
  ]
}